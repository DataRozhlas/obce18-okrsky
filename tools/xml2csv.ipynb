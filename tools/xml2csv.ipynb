{
 "cells": [
  {
   "cell_type": "code",
   "execution_count": 1,
   "metadata": {},
   "outputs": [],
   "source": [
    "import requests\n",
    "import xml.etree.ElementTree as ET\n",
    "import pandas as pd"
   ]
  },
  {
   "cell_type": "code",
   "execution_count": 2,
   "metadata": {},
   "outputs": [],
   "source": [
    "ns = '{http://www.volby.cz/kv/}'"
   ]
  },
  {
   "cell_type": "code",
   "execution_count": 3,
   "metadata": {},
   "outputs": [],
   "source": [
    "partaje = ['KDU-ČSL','KSČM','ČSSD','ODS','ANO','STAN','SPD','TOP 09','Piráti']\n",
    "kvros = pd.read_csv('../scratch/kvros.csv', encoding='windows-1250', sep=';')\n",
    "\n",
    "kvr = {}\n",
    "for k in list(kvros.to_dict(orient='index').values()):\n",
    "    if k['ZKRATKAO8'] in partaje:\n",
    "        kvr[ str(k['KODZASTUP']) + '_' + str(k['COBVODU']) + '_' + str(k['POR_STR_HL']) ] = k['ZKRATKAO8']"
   ]
  },
  {
   "cell_type": "code",
   "execution_count": 4,
   "metadata": {},
   "outputs": [],
   "source": [
    "data = pd.DataFrame()\n",
    "for i in range(1, 172): #172\n",
    "    r = requests.get('http://80.188.53.60/pls/kvmedia/vysledky_okrsky?davka=' + str(i))\n",
    "    root = ET.fromstring(r.text)\n",
    "    for okr in root.findall(ns + 'OKRSEK'):\n",
    "        tmp = okr.attrib\n",
    "        tmp.update(okr.find(ns + 'UCAST_OKRSEK').attrib)\n",
    "        for part in okr.findall(ns + 'HLASY_OKRSEK'):\n",
    "            pid = okr.get('KODZASTUP') + '_' + okr.get('CIS_OBVODU') + '_' + part.get('POR_STR_HLAS_LIST')\n",
    "            if pid in kvr.keys():\n",
    "                tmp.update({'HL_' + kvr[pid]: int(part.get('HLASY'))})\n",
    "            else:\n",
    "                tmp.update({'HL_Ostatní': int(part.get('HLASY'))})\n",
    "                \n",
    "        data = data.append(tmp, ignore_index=True)"
   ]
  },
  {
   "cell_type": "code",
   "execution_count": 5,
   "metadata": {},
   "outputs": [],
   "source": [
    "data.fillna(0, inplace=True)"
   ]
  },
  {
   "cell_type": "code",
   "execution_count": 6,
   "metadata": {},
   "outputs": [],
   "source": [
    "for col in data.columns:\n",
    "    if col.startswith('HL_'):\n",
    "        data[col] = data[col].astype('int')"
   ]
  },
  {
   "cell_type": "code",
   "execution_count": 7,
   "metadata": {},
   "outputs": [],
   "source": [
    "data.to_csv('../scratch/okrsky_cisla.csv', encoding='utf-8', index=False)"
   ]
  }
 ],
 "metadata": {
  "kernelspec": {
   "display_name": "Python 3",
   "language": "python",
   "name": "python3"
  },
  "language_info": {
   "codemirror_mode": {
    "name": "ipython",
    "version": 3
   },
   "file_extension": ".py",
   "mimetype": "text/x-python",
   "name": "python",
   "nbconvert_exporter": "python",
   "pygments_lexer": "ipython3",
   "version": "3.6.5"
  }
 },
 "nbformat": 4,
 "nbformat_minor": 2
}
